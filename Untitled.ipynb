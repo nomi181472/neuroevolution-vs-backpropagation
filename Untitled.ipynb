{
 "cells": [
  {
   "cell_type": "code",
   "execution_count": 1,
   "id": "fd936278-a821-41da-ba7d-b23b3aa9d0b3",
   "metadata": {},
   "outputs": [
    {
     "name": "stderr",
     "output_type": "stream",
     "text": [
      "[2024-11-28 10:39:24] WARNING  <26308> evotorch: The logger is already configured. The default configuration will not be applied. Call `set_default_logger_config` with `override=True` to override the current configuration.\n",
      "Please install the package to ensure correct behavior.\n",
      "From root folder:\n",
      "\tpip install -e .\n"
     ]
    }
   ],
   "source": [
    "import torch\n",
    "from torch import nn\n",
    "from torch.utils.data import TensorDataset, DataLoader\n",
    "from src.evotorch.algorithms import SNES\n",
    "from src.evotorch.logging import PandasLogger\n",
    "from src.evotorch.neuroevolution import SupervisedNE\n",
    "N = 100\n",
    "X = torch.randn((N, 2))\n",
    "Y = X.sum(dim=-1, keepdim=True)\n",
    "\n",
    "\n",
    "train_dataset = TensorDataset(X, Y)\n",
    "\n",
    "\n",
    "sum_of_problem = SupervisedNE(\n",
    "    dataset=train_dataset,  # Use the training dataset generated earlier\n",
    "    network=nn.Sequential(nn.Linear(2, 32), nn.ReLU(), nn.Linear(32, 1)),  # Simple MLP\n",
    "    minibatch_size=32,  # Solutions will be evaluated on minibatches of size 32\n",
    "    loss_func=nn.MSELoss(),  # Solutions will be evaluated using MSELoss\n",
    ")\n",
    "searcher = SNES(sum_of_problem, popsize=50, radius_init=2.25)\n",
    "logger = PandasLogger(searcher)\n"
   ]
  },
  {
   "cell_type": "code",
   "execution_count": 2,
   "id": "3d8fe0dc-0324-4ba8-a06c-3c4dcb627ffb",
   "metadata": {},
   "outputs": [],
   "source": [
    "searcher.run(2)\n"
   ]
  },
  {
   "cell_type": "code",
   "execution_count": 3,
   "id": "323d0dfd-4208-4d2a-b563-16ae74a621b3",
   "metadata": {},
   "outputs": [],
   "source": [
    "df=logger.to_dataframe()"
   ]
  },
  {
   "cell_type": "code",
   "execution_count": null,
   "id": "b0831426-2b79-41ac-a1ea-9f0d23ab23ae",
   "metadata": {},
   "outputs": [],
   "source": [
    "df.mean_eval.plot()"
   ]
  },
  {
   "cell_type": "code",
   "execution_count": null,
   "id": "a40e1dde-d3fe-4d69-bbd1-575f8bbb47e5",
   "metadata": {},
   "outputs": [],
   "source": []
  }
 ],
 "metadata": {
  "kernelspec": {
   "display_name": "Python (your_environment_name)",
   "language": "python",
   "name": "your_environment_name"
  },
  "language_info": {
   "codemirror_mode": {
    "name": "ipython",
    "version": 3
   },
   "file_extension": ".py",
   "mimetype": "text/x-python",
   "name": "python",
   "nbconvert_exporter": "python",
   "pygments_lexer": "ipython3",
   "version": "3.12.3"
  }
 },
 "nbformat": 4,
 "nbformat_minor": 5
}
