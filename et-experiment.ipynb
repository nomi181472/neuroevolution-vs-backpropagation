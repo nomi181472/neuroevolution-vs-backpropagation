{
 "cells": [
  {
   "cell_type": "code",
   "execution_count": 1,
   "id": "1cc073a6-75bd-4026-8a63-c866e5f6b0b7",
   "metadata": {},
   "outputs": [
    {
     "name": "stdout",
     "output_type": "stream",
     "text": [
      "[2024-11-23 16:49:54] INFO     < 8696> evotorch.core: Instance of `GymNE` (id:1997685684464) -- The `dtype` for the problem's decision variables is set as torch.float32\n",
      "[2024-11-23 16:49:54] INFO     < 8696> evotorch.core: Instance of `GymNE` (id:1997685684464) -- `eval_dtype` (the dtype of the fitnesses and evaluation data) is set as torch.float32\n",
      "[2024-11-23 16:49:54] INFO     < 8696> evotorch.core: Instance of `GymNE` (id:1997685684464) -- The `device` of the problem is set as cpu\n",
      "[2024-11-23 16:49:54] INFO     < 8696> evotorch.core: Instance of `GymNE` (id:1997685684464) -- The number of actors that will be allocated for parallelized evaluation is 4\n",
      "[2024-11-23 16:49:54] INFO     < 8696> evotorch.core: Instance of `GymNE` (id:1997685684464) -- Number of GPUs that will be allocated per actor is None\n"
     ]
    },
    {
     "name": "stderr",
     "output_type": "stream",
     "text": [
      "2024-11-23 16:50:02,028\tERROR services.py:1350 -- Failed to start the dashboard , return code 1\n",
      "2024-11-23 16:50:02,032\tERROR services.py:1375 -- Error should be written to 'dashboard.log' or 'dashboard.err'. We are printing the last 20 lines for you. See 'https://docs.ray.io/en/master/ray-observability/user-guides/configure-logging.html#logging-directory-structure' to find where the log file is.\n",
      "2024-11-23 16:50:02,065\tERROR services.py:1419 -- \n",
      "The last 20 lines of C:\\Users\\THELAP~1\\AppData\\Local\\Temp\\ray\\session_2024-11-23_16-49-56_861153_8696\\logs\\dashboard.log (it contains the error message from the dashboard): \n",
      "  File \"<frozen importlib._bootstrap>\", line 1360, in _find_and_load\n",
      "  File \"<frozen importlib._bootstrap>\", line 1331, in _find_and_load_unlocked\n",
      "  File \"<frozen importlib._bootstrap>\", line 935, in _load_unlocked\n",
      "  File \"<frozen importlib._bootstrap_external>\", line 995, in exec_module\n",
      "  File \"<frozen importlib._bootstrap>\", line 488, in _call_with_frames_removed\n",
      "  File \"D:\\anaconda\\envs\\per\\Lib\\site-packages\\ray\\dashboard\\modules\\log\\log_manager.py\", line 11, in <module>\n",
      "    from ray.util.state.common import (\n",
      "  File \"D:\\anaconda\\envs\\per\\Lib\\site-packages\\ray\\util\\state\\__init__.py\", line 1, in <module>\n",
      "    from ray.util.state.api import (\n",
      "  File \"D:\\anaconda\\envs\\per\\Lib\\site-packages\\ray\\util\\state\\api.py\", line 18, in <module>\n",
      "    from ray.util.state.common import (\n",
      "  File \"D:\\anaconda\\envs\\per\\Lib\\site-packages\\ray\\util\\state\\common.py\", line 14, in <module>\n",
      "    from ray.util.state.custom_types import (\n",
      "  File \"D:\\anaconda\\envs\\per\\Lib\\site-packages\\ray\\util\\state\\custom_types.py\", line 123, in <module>\n",
      "    validate_protobuf_enum(ActorTableData.ActorState, ACTOR_STATUS)\n",
      "  File \"D:\\anaconda\\envs\\per\\Lib\\site-packages\\ray\\util\\state\\custom_types.py\", line 117, in validate_protobuf_enum\n",
      "    assert enum_vals == set(custom_enum)\n",
      "           ^^^^^^^^^^^^^^^^^^^^^^^^^^^^^\n",
      "AssertionError\n",
      "2024-11-23 16:50:02,256\tINFO worker.py:1816 -- Started a local Ray instance.\n"
     ]
    },
    {
     "name": "stdout",
     "output_type": "stream",
     "text": [
      "\u001b[33m(raylet)\u001b[0m The node with node id: 430abdcd7403ed249fbab55aa86f50076f12da229fa4d2c3924ab4af and address: 127.0.0.1 and node name: 127.0.0.1 has been marked dead because the detector has missed too many heartbeats from it. This can happen when a \t(1) raylet crashes unexpectedly (OOM, etc.) \n",
      "\t(2) raylet has lagging heartbeats due to slow network or busy workload.\n"
     ]
    },
    {
     "name": "stderr",
     "output_type": "stream",
     "text": [
      "\u001b[33m(raylet)\u001b[0m [2024-11-23 16:50:11,769 E 27060 20236] (raylet.exe) agent_manager.cc:83: The raylet exited immediately because one Ray agent failed, agent_name = dashboard_agent/15724.\n",
      "\u001b[33m(raylet)\u001b[0m The raylet fate shares with the agent. This can happen because\n",
      "\u001b[33m(raylet)\u001b[0m - The version of `grpcio` doesn't follow Ray's requirement. Agent can segfault with the incorrect `grpcio` version. Check the grpcio version `pip freeze | grep grpcio`.\n",
      "\u001b[33m(raylet)\u001b[0m - The agent failed to start because of unexpected error or port conflict. Read the log `cat /tmp/ray/session_latest/logs/{dashboard_agent|runtime_env_agent}.log`. You can find the log file structure here https://docs.ray.io/en/master/ray-observability/user-guides/configure-logging.html#logging-directory-structure.\n",
      "\u001b[33m(raylet)\u001b[0m - The agent is killed by the OS (e.g., out of memory).\n",
      "\u001b[33m(raylet)\u001b[0m [2024-11-23 16:50:12,036 E 27060 27036] (raylet.exe) raylet.cc:175: Raylet failed to accept new connection: The I/O operation has been aborted because of either a thread exit or an application request\n",
      "\u001b[33m(raylet)\u001b[0m [2024-11-23 16:50:12,038 C 27060 27036] (raylet.exe) experimental_mutable_object_provider.cc:34:  Check failed: object_manager_->SetErrorAll().code() == StatusCode::OK \n",
      "\u001b[33m(raylet)\u001b[0m *** StackTrace Information ***\n",
      "\u001b[33m(raylet)\u001b[0m unknown\n",
      "\u001b[33m(raylet)\u001b[0m \n"
     ]
    },
    {
     "ename": "ActorDiedError",
     "evalue": "The actor died unexpectedly before finishing this task.\n\tclass_name: EvaluationActor\n\tactor_id: 37be9e609e28265ad0d9328901000000\n\tpid: 19808\n\tnamespace: c5e2ef7c-3031-4e90-a9c3-c09df80d45b3\n\tip: 127.0.0.1\nThe actor is dead because its owner has died. Owner Id: 01000000ffffffffffffffffffffffffffffffffffffffffffffffff Owner Ip address: 127.0.0.1 Owner worker exit type: SYSTEM_ERROR Worker exit detail: Owner's node has crashed.\nThe actor never ran - it was cancelled before it started running.",
     "output_type": "error",
     "traceback": [
      "\u001b[1;31m---------------------------------------------------------------------------\u001b[0m",
      "\u001b[1;31mActorDiedError\u001b[0m                            Traceback (most recent call last)",
      "Cell \u001b[1;32mIn[1], line 55\u001b[0m\n\u001b[0;32m     53\u001b[0m \u001b[38;5;28;01mif\u001b[39;00m \u001b[38;5;18m__name__\u001b[39m \u001b[38;5;241m==\u001b[39m \u001b[38;5;124m'\u001b[39m\u001b[38;5;124m__main__\u001b[39m\u001b[38;5;124m'\u001b[39m:\n\u001b[0;32m     54\u001b[0m     StdOutLogger(searcher)\n\u001b[1;32m---> 55\u001b[0m     \u001b[43msearcher\u001b[49m\u001b[38;5;241;43m.\u001b[39;49m\u001b[43mrun\u001b[49m\u001b[43m(\u001b[49m\u001b[38;5;241;43m50\u001b[39;49m\u001b[43m)\u001b[49m\n",
      "File \u001b[1;32mD:\\anaconda\\envs\\per\\Lib\\site-packages\\evotorch\\algorithms\\searchalgorithm.py:425\u001b[0m, in \u001b[0;36mSearchAlgorithm.run\u001b[1;34m(self, num_generations, reset_first_step_datetime)\u001b[0m\n\u001b[0;32m    422\u001b[0m     \u001b[38;5;28mself\u001b[39m\u001b[38;5;241m.\u001b[39mreset_first_step_datetime()\n\u001b[0;32m    424\u001b[0m \u001b[38;5;28;01mfor\u001b[39;00m _ \u001b[38;5;129;01min\u001b[39;00m \u001b[38;5;28mrange\u001b[39m(\u001b[38;5;28mint\u001b[39m(num_generations)):\n\u001b[1;32m--> 425\u001b[0m     \u001b[38;5;28;43mself\u001b[39;49m\u001b[38;5;241;43m.\u001b[39;49m\u001b[43mstep\u001b[49m\u001b[43m(\u001b[49m\u001b[43m)\u001b[49m\n\u001b[0;32m    427\u001b[0m \u001b[38;5;28;01mif\u001b[39;00m \u001b[38;5;28mlen\u001b[39m(\u001b[38;5;28mself\u001b[39m\u001b[38;5;241m.\u001b[39m_end_of_run_hook) \u001b[38;5;241m>\u001b[39m\u001b[38;5;241m=\u001b[39m \u001b[38;5;241m1\u001b[39m:\n\u001b[0;32m    428\u001b[0m     \u001b[38;5;28mself\u001b[39m\u001b[38;5;241m.\u001b[39m_end_of_run_hook(\u001b[38;5;28mdict\u001b[39m(\u001b[38;5;28mself\u001b[39m\u001b[38;5;241m.\u001b[39mstatus))\n",
      "File \u001b[1;32mD:\\anaconda\\envs\\per\\Lib\\site-packages\\evotorch\\algorithms\\searchalgorithm.py:390\u001b[0m, in \u001b[0;36mSearchAlgorithm.step\u001b[1;34m(self)\u001b[0m\n\u001b[0;32m    387\u001b[0m \u001b[38;5;28;01mif\u001b[39;00m \u001b[38;5;28mself\u001b[39m\u001b[38;5;241m.\u001b[39m_first_step_datetime \u001b[38;5;129;01mis\u001b[39;00m \u001b[38;5;28;01mNone\u001b[39;00m:\n\u001b[0;32m    388\u001b[0m     \u001b[38;5;28mself\u001b[39m\u001b[38;5;241m.\u001b[39m_first_step_datetime \u001b[38;5;241m=\u001b[39m datetime\u001b[38;5;241m.\u001b[39mnow()\n\u001b[1;32m--> 390\u001b[0m \u001b[38;5;28;43mself\u001b[39;49m\u001b[38;5;241;43m.\u001b[39;49m\u001b[43m_step\u001b[49m\u001b[43m(\u001b[49m\u001b[43m)\u001b[49m\n\u001b[0;32m    391\u001b[0m \u001b[38;5;28mself\u001b[39m\u001b[38;5;241m.\u001b[39m_steps_count \u001b[38;5;241m+\u001b[39m\u001b[38;5;241m=\u001b[39m \u001b[38;5;241m1\u001b[39m\n\u001b[0;32m    392\u001b[0m \u001b[38;5;28mself\u001b[39m\u001b[38;5;241m.\u001b[39mupdate_status({\u001b[38;5;124m\"\u001b[39m\u001b[38;5;124miter\u001b[39m\u001b[38;5;124m\"\u001b[39m: \u001b[38;5;28mself\u001b[39m\u001b[38;5;241m.\u001b[39m_steps_count})\n",
      "File \u001b[1;32mD:\\anaconda\\envs\\per\\Lib\\site-packages\\evotorch\\algorithms\\ga.py:995\u001b[0m, in \u001b[0;36mCosyne._step\u001b[1;34m(self)\u001b[0m\n\u001b[0;32m    993\u001b[0m \u001b[38;5;28;01mif\u001b[39;00m \u001b[38;5;28mself\u001b[39m\u001b[38;5;241m.\u001b[39m_first_generation:\n\u001b[0;32m    994\u001b[0m     \u001b[38;5;28mself\u001b[39m\u001b[38;5;241m.\u001b[39m_first_generation \u001b[38;5;241m=\u001b[39m \u001b[38;5;28;01mFalse\u001b[39;00m\n\u001b[1;32m--> 995\u001b[0m     \u001b[38;5;28;43mself\u001b[39;49m\u001b[38;5;241;43m.\u001b[39;49m\u001b[43m_problem\u001b[49m\u001b[38;5;241;43m.\u001b[39;49m\u001b[43mevaluate\u001b[49m\u001b[43m(\u001b[49m\u001b[38;5;28;43mself\u001b[39;49m\u001b[38;5;241;43m.\u001b[39;49m\u001b[43m_population\u001b[49m\u001b[43m)\u001b[49m\n\u001b[0;32m    997\u001b[0m to_merge \u001b[38;5;241m=\u001b[39m []\n\u001b[0;32m    999\u001b[0m num_elites \u001b[38;5;241m=\u001b[39m \u001b[38;5;28mself\u001b[39m\u001b[38;5;241m.\u001b[39m_num_elites\n",
      "File \u001b[1;32mD:\\anaconda\\envs\\per\\Lib\\site-packages\\evotorch\\core.py:2548\u001b[0m, in \u001b[0;36mProblem.evaluate\u001b[1;34m(self, x)\u001b[0m\n\u001b[0;32m   2544\u001b[0m must_sync_after \u001b[38;5;241m=\u001b[39m \u001b[38;5;28mself\u001b[39m\u001b[38;5;241m.\u001b[39m_sync_before()\n\u001b[0;32m   2546\u001b[0m \u001b[38;5;28mself\u001b[39m\u001b[38;5;241m.\u001b[39m_start_preparations()\n\u001b[1;32m-> 2548\u001b[0m \u001b[38;5;28;43mself\u001b[39;49m\u001b[38;5;241;43m.\u001b[39;49m\u001b[43m_evaluate_all\u001b[49m\u001b[43m(\u001b[49m\u001b[43mbatch\u001b[49m\u001b[43m)\u001b[49m\n\u001b[0;32m   2550\u001b[0m \u001b[38;5;28;01mif\u001b[39;00m must_sync_after:\n\u001b[0;32m   2551\u001b[0m     \u001b[38;5;28mself\u001b[39m\u001b[38;5;241m.\u001b[39m_sync_after()\n",
      "File \u001b[1;32mD:\\anaconda\\envs\\per\\Lib\\site-packages\\evotorch\\core.py:2587\u001b[0m, in \u001b[0;36mProblem._evaluate_all\u001b[1;34m(self, batch)\u001b[0m\n\u001b[0;32m   2579\u001b[0m \u001b[38;5;66;03m# mapresult = self._actor_pool.map(lambda a, v: a.evaluate_batch.remote(v), list(pieces))\u001b[39;00m\n\u001b[0;32m   2580\u001b[0m \u001b[38;5;66;03m# for i, evals in enumerate(mapresult):\u001b[39;00m\n\u001b[0;32m   2581\u001b[0m \u001b[38;5;66;03m#    row_begin, row_end = pieces.indices_of(i)\u001b[39;00m\n\u001b[0;32m   2582\u001b[0m \u001b[38;5;66;03m#    batch._evdata[row_begin:row_end, :] = evals\u001b[39;00m\n\u001b[0;32m   2584\u001b[0m mapresult \u001b[38;5;241m=\u001b[39m \u001b[38;5;28mself\u001b[39m\u001b[38;5;241m.\u001b[39m_actor_pool\u001b[38;5;241m.\u001b[39mmap_unordered(\n\u001b[0;32m   2585\u001b[0m     \u001b[38;5;28;01mlambda\u001b[39;00m a, v: a\u001b[38;5;241m.\u001b[39mevaluate_batch_piece\u001b[38;5;241m.\u001b[39mremote(v[\u001b[38;5;241m0\u001b[39m], v[\u001b[38;5;241m1\u001b[39m]), \u001b[38;5;28mlist\u001b[39m(\u001b[38;5;28menumerate\u001b[39m(pieces))\n\u001b[0;32m   2586\u001b[0m )\n\u001b[1;32m-> 2587\u001b[0m \u001b[43m\u001b[49m\u001b[38;5;28;43;01mfor\u001b[39;49;00m\u001b[43m \u001b[49m\u001b[43mi\u001b[49m\u001b[43m,\u001b[49m\u001b[43m \u001b[49m\u001b[43mevals\u001b[49m\u001b[43m \u001b[49m\u001b[38;5;129;43;01min\u001b[39;49;00m\u001b[43m \u001b[49m\u001b[43mmapresult\u001b[49m\u001b[43m:\u001b[49m\n\u001b[0;32m   2588\u001b[0m \u001b[43m    \u001b[49m\u001b[43mrow_begin\u001b[49m\u001b[43m,\u001b[49m\u001b[43m \u001b[49m\u001b[43mrow_end\u001b[49m\u001b[43m \u001b[49m\u001b[38;5;241;43m=\u001b[39;49m\u001b[43m \u001b[49m\u001b[43mpieces\u001b[49m\u001b[38;5;241;43m.\u001b[39;49m\u001b[43mindices_of\u001b[49m\u001b[43m(\u001b[49m\u001b[43mi\u001b[49m\u001b[43m)\u001b[49m\n\u001b[0;32m   2589\u001b[0m \u001b[43m    \u001b[49m\u001b[43mbatch\u001b[49m\u001b[38;5;241;43m.\u001b[39;49m\u001b[43m_evdata\u001b[49m\u001b[43m[\u001b[49m\u001b[43mrow_begin\u001b[49m\u001b[43m:\u001b[49m\u001b[43mrow_end\u001b[49m\u001b[43m,\u001b[49m\u001b[43m \u001b[49m\u001b[43m:\u001b[49m\u001b[43m]\u001b[49m\u001b[43m \u001b[49m\u001b[38;5;241;43m=\u001b[39;49m\u001b[43m \u001b[49m\u001b[43mevals\u001b[49m\n",
      "File \u001b[1;32mD:\\anaconda\\envs\\per\\Lib\\site-packages\\ray\\util\\actor_pool.py:170\u001b[0m, in \u001b[0;36mActorPool.map_unordered.<locals>.get_generator\u001b[1;34m()\u001b[0m\n\u001b[0;32m    168\u001b[0m \u001b[38;5;28;01mdef\u001b[39;00m \u001b[38;5;21mget_generator\u001b[39m():\n\u001b[0;32m    169\u001b[0m     \u001b[38;5;28;01mwhile\u001b[39;00m \u001b[38;5;28mself\u001b[39m\u001b[38;5;241m.\u001b[39mhas_next():\n\u001b[1;32m--> 170\u001b[0m         \u001b[38;5;28;01myield\u001b[39;00m \u001b[38;5;28;43mself\u001b[39;49m\u001b[38;5;241;43m.\u001b[39;49m\u001b[43mget_next_unordered\u001b[49m\u001b[43m(\u001b[49m\u001b[43m)\u001b[49m\n",
      "File \u001b[1;32mD:\\anaconda\\envs\\per\\Lib\\site-packages\\ray\\util\\actor_pool.py:370\u001b[0m, in \u001b[0;36mActorPool.get_next_unordered\u001b[1;34m(self, timeout, ignore_if_timedout)\u001b[0m\n\u001b[0;32m    366\u001b[0m \u001b[38;5;28;01mif\u001b[39;00m raise_timeout_after_ignore:\n\u001b[0;32m    367\u001b[0m     \u001b[38;5;28;01mraise\u001b[39;00m \u001b[38;5;167;01mTimeoutError\u001b[39;00m(\n\u001b[0;32m    368\u001b[0m         timeout_msg \u001b[38;5;241m+\u001b[39m \u001b[38;5;124m\"\u001b[39m\u001b[38;5;124m. The task \u001b[39m\u001b[38;5;132;01m{}\u001b[39;00m\u001b[38;5;124m has been ignored.\u001b[39m\u001b[38;5;124m\"\u001b[39m\u001b[38;5;241m.\u001b[39mformat(future)\n\u001b[0;32m    369\u001b[0m     )\n\u001b[1;32m--> 370\u001b[0m \u001b[38;5;28;01mreturn\u001b[39;00m \u001b[43mray\u001b[49m\u001b[38;5;241;43m.\u001b[39;49m\u001b[43mget\u001b[49m\u001b[43m(\u001b[49m\u001b[43mfuture\u001b[49m\u001b[43m)\u001b[49m\n",
      "File \u001b[1;32mD:\\anaconda\\envs\\per\\Lib\\site-packages\\ray\\_private\\auto_init_hook.py:21\u001b[0m, in \u001b[0;36mwrap_auto_init.<locals>.auto_init_wrapper\u001b[1;34m(*args, **kwargs)\u001b[0m\n\u001b[0;32m     18\u001b[0m \u001b[38;5;129m@wraps\u001b[39m(fn)\n\u001b[0;32m     19\u001b[0m \u001b[38;5;28;01mdef\u001b[39;00m \u001b[38;5;21mauto_init_wrapper\u001b[39m(\u001b[38;5;241m*\u001b[39margs, \u001b[38;5;241m*\u001b[39m\u001b[38;5;241m*\u001b[39mkwargs):\n\u001b[0;32m     20\u001b[0m     auto_init_ray()\n\u001b[1;32m---> 21\u001b[0m     \u001b[38;5;28;01mreturn\u001b[39;00m \u001b[43mfn\u001b[49m\u001b[43m(\u001b[49m\u001b[38;5;241;43m*\u001b[39;49m\u001b[43margs\u001b[49m\u001b[43m,\u001b[49m\u001b[43m \u001b[49m\u001b[38;5;241;43m*\u001b[39;49m\u001b[38;5;241;43m*\u001b[39;49m\u001b[43mkwargs\u001b[49m\u001b[43m)\u001b[49m\n",
      "File \u001b[1;32mD:\\anaconda\\envs\\per\\Lib\\site-packages\\ray\\_private\\client_mode_hook.py:103\u001b[0m, in \u001b[0;36mclient_mode_hook.<locals>.wrapper\u001b[1;34m(*args, **kwargs)\u001b[0m\n\u001b[0;32m    101\u001b[0m     \u001b[38;5;28;01mif\u001b[39;00m func\u001b[38;5;241m.\u001b[39m\u001b[38;5;18m__name__\u001b[39m \u001b[38;5;241m!=\u001b[39m \u001b[38;5;124m\"\u001b[39m\u001b[38;5;124minit\u001b[39m\u001b[38;5;124m\"\u001b[39m \u001b[38;5;129;01mor\u001b[39;00m is_client_mode_enabled_by_default:\n\u001b[0;32m    102\u001b[0m         \u001b[38;5;28;01mreturn\u001b[39;00m \u001b[38;5;28mgetattr\u001b[39m(ray, func\u001b[38;5;241m.\u001b[39m\u001b[38;5;18m__name__\u001b[39m)(\u001b[38;5;241m*\u001b[39margs, \u001b[38;5;241m*\u001b[39m\u001b[38;5;241m*\u001b[39mkwargs)\n\u001b[1;32m--> 103\u001b[0m \u001b[38;5;28;01mreturn\u001b[39;00m \u001b[43mfunc\u001b[49m\u001b[43m(\u001b[49m\u001b[38;5;241;43m*\u001b[39;49m\u001b[43margs\u001b[49m\u001b[43m,\u001b[49m\u001b[43m \u001b[49m\u001b[38;5;241;43m*\u001b[39;49m\u001b[38;5;241;43m*\u001b[39;49m\u001b[43mkwargs\u001b[49m\u001b[43m)\u001b[49m\n",
      "File \u001b[1;32mD:\\anaconda\\envs\\per\\Lib\\site-packages\\ray\\_private\\worker.py:2745\u001b[0m, in \u001b[0;36mget\u001b[1;34m(object_refs, timeout)\u001b[0m\n\u001b[0;32m   2739\u001b[0m     \u001b[38;5;28;01mraise\u001b[39;00m \u001b[38;5;167;01mValueError\u001b[39;00m(\n\u001b[0;32m   2740\u001b[0m         \u001b[38;5;124mf\u001b[39m\u001b[38;5;124m\"\u001b[39m\u001b[38;5;124mInvalid type of object refs, \u001b[39m\u001b[38;5;132;01m{\u001b[39;00m\u001b[38;5;28mtype\u001b[39m(object_refs)\u001b[38;5;132;01m}\u001b[39;00m\u001b[38;5;124m, is given. \u001b[39m\u001b[38;5;124m\"\u001b[39m\n\u001b[0;32m   2741\u001b[0m         \u001b[38;5;124m\"\u001b[39m\u001b[38;5;124m'\u001b[39m\u001b[38;5;124mobject_refs\u001b[39m\u001b[38;5;124m'\u001b[39m\u001b[38;5;124m must either be an ObjectRef or a list of ObjectRefs. \u001b[39m\u001b[38;5;124m\"\u001b[39m\n\u001b[0;32m   2742\u001b[0m     )\n\u001b[0;32m   2744\u001b[0m \u001b[38;5;66;03m# TODO(ujvl): Consider how to allow user to retrieve the ready objects.\u001b[39;00m\n\u001b[1;32m-> 2745\u001b[0m values, debugger_breakpoint \u001b[38;5;241m=\u001b[39m \u001b[43mworker\u001b[49m\u001b[38;5;241;43m.\u001b[39;49m\u001b[43mget_objects\u001b[49m\u001b[43m(\u001b[49m\u001b[43mobject_refs\u001b[49m\u001b[43m,\u001b[49m\u001b[43m \u001b[49m\u001b[43mtimeout\u001b[49m\u001b[38;5;241;43m=\u001b[39;49m\u001b[43mtimeout\u001b[49m\u001b[43m)\u001b[49m\n\u001b[0;32m   2746\u001b[0m \u001b[38;5;28;01mfor\u001b[39;00m i, value \u001b[38;5;129;01min\u001b[39;00m \u001b[38;5;28menumerate\u001b[39m(values):\n\u001b[0;32m   2747\u001b[0m     \u001b[38;5;28;01mif\u001b[39;00m \u001b[38;5;28misinstance\u001b[39m(value, RayError):\n",
      "File \u001b[1;32mD:\\anaconda\\envs\\per\\Lib\\site-packages\\ray\\_private\\worker.py:903\u001b[0m, in \u001b[0;36mWorker.get_objects\u001b[1;34m(self, object_refs, timeout, return_exceptions)\u001b[0m\n\u001b[0;32m    901\u001b[0m                 \u001b[38;5;28;01mraise\u001b[39;00m value\u001b[38;5;241m.\u001b[39mas_instanceof_cause()\n\u001b[0;32m    902\u001b[0m             \u001b[38;5;28;01melse\u001b[39;00m:\n\u001b[1;32m--> 903\u001b[0m                 \u001b[38;5;28;01mraise\u001b[39;00m value\n\u001b[0;32m    905\u001b[0m \u001b[38;5;28;01mreturn\u001b[39;00m values, debugger_breakpoint\n",
      "\u001b[1;31mActorDiedError\u001b[0m: The actor died unexpectedly before finishing this task.\n\tclass_name: EvaluationActor\n\tactor_id: 37be9e609e28265ad0d9328901000000\n\tpid: 19808\n\tnamespace: c5e2ef7c-3031-4e90-a9c3-c09df80d45b3\n\tip: 127.0.0.1\nThe actor is dead because its owner has died. Owner Id: 01000000ffffffffffffffffffffffffffffffffffffffffffffffff Owner Ip address: 127.0.0.1 Owner worker exit type: SYSTEM_ERROR Worker exit detail: Owner's node has crashed.\nThe actor never ran - it was cancelled before it started running."
     ]
    }
   ],
   "source": [
    "import evotorch.operators\n",
    "import torch\n",
    "from torch import nn\n",
    "from evotorch.decorators import pass_info\n",
    "from evotorch.neuroevolution import GymNE\n",
    "from evotorch.logging import StdOutLogger\n",
    "from evotorch.algorithms import Cosyne\n",
    "\n",
    "# The decorator `@pass_info` tells the problem class `GymNE`\n",
    "# to pass information regarding the gym environment via keyword arguments\n",
    "# such as `obs_length` and `act_length`.\n",
    "@pass_info\n",
    "class LinearPolicy(nn.Module):\n",
    "    def __init__(\n",
    "            self,\n",
    "            obs_length: int,  # Number of observations from the environment\n",
    "            act_length: int,  # Number of actions of the environment\n",
    "            bias: bool = True,  # Whether the policy should use biases\n",
    "            **kwargs  # Anything else that is passed\n",
    "    ):\n",
    "        super().__init__()  # Always call super init for nn Modules\n",
    "        self.linear = nn.Linear(obs_length, act_length, bias=bias)\n",
    "\n",
    "    def forward(self, obs: torch.Tensor) -> torch.Tensor:\n",
    "        # Forward pass of model simply applies linear layer to observations\n",
    "        return self.linear(obs)\n",
    "\n",
    "# Setting up the GymNE problem\n",
    "problem = GymNE(\n",
    "    env=\"LunarLanderContinuous-v3\",  # Name of the environment\n",
    "    network=LinearPolicy,  # Linear policy that we defined earlier\n",
    "    network_args={'bias': False},  # Linear policy should not use biases\n",
    "    num_actors=4,  # Use 4 available CPUs. You can modify this value, or use 'max' to exploit all available CPUs\n",
    "    observation_normalization=False,  # Observation normalization was not used in Lunar Lander experiments\n",
    ")\n",
    "\n",
    "# Setting up the PGPE searcher\n",
    "radius_init = 4.5  # (approximate) radius of initial hypersphere that we will sample from\n",
    "max_speed = radius_init / 15.  # Rule-of-thumb from the paper\n",
    "center_learning_rate = max_speed / 2.\n",
    "\n",
    "searcher = Cosyne(\n",
    "    problem,\n",
    "    num_elites=1,\n",
    "    popsize=50,\n",
    "    tournament_size=4,\n",
    "    mutation_stdev=0.3,\n",
    "    mutation_probability=0.5,\n",
    "    permute_all=True,\n",
    ")\n",
    "\n",
    "\n",
    "if __name__ == '__main__':\n",
    "    StdOutLogger(searcher)\n",
    "    searcher.run(50)"
   ]
  },
  {
   "cell_type": "code",
   "execution_count": null,
   "id": "3a220494-fee7-471f-8992-1d433ce8520f",
   "metadata": {},
   "outputs": [],
   "source": []
  }
 ],
 "metadata": {
  "kernelspec": {
   "display_name": "Python (your_environment_name)",
   "language": "python",
   "name": "your_environment_name"
  },
  "language_info": {
   "codemirror_mode": {
    "name": "ipython",
    "version": 3
   },
   "file_extension": ".py",
   "mimetype": "text/x-python",
   "name": "python",
   "nbconvert_exporter": "python",
   "pygments_lexer": "ipython3",
   "version": "3.12.3"
  }
 },
 "nbformat": 4,
 "nbformat_minor": 5
}
